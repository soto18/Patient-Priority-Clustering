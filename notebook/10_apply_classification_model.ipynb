{
 "cells": [
  {
   "attachments": {},
   "cell_type": "markdown",
   "metadata": {},
   "source": [
    "## Training a classification model"
   ]
  },
  {
   "cell_type": "code",
   "execution_count": 1,
   "metadata": {},
   "outputs": [],
   "source": [
    "import pandas as pd\n",
    "import os\n",
    "import sys\n",
    "sys.path.insert(0, \"../\")\n",
    "\n",
    "from src.classification.classification_models import ClassificationModel\n",
    "from sklearn.model_selection import train_test_split\n",
    "from sklearn.utils import resample"
   ]
  },
  {
   "attachments": {},
   "cell_type": "markdown",
   "metadata": {},
   "source": [
    "### Load generated dataset"
   ]
  },
  {
   "cell_type": "code",
   "execution_count": 2,
   "metadata": {},
   "outputs": [],
   "source": [
    "df_data = pd.read_csv(\"../results/preprocessing/05_dataset_scaled_robust.csv\")\n",
    "df_labels_clustering = pd.read_csv(\"../results/clustering/labels.csv\")\n",
    "\n",
    "df_data = df_data.assign(label=df_labels_clustering[\"minibatch_k_means_k_4\"]) # algoritmo con mejor desempeño"
   ]
  },
  {
   "cell_type": "code",
   "execution_count": 3,
   "metadata": {},
   "outputs": [
    {
     "data": {
      "text/plain": [
       "label\n",
       "3    2023\n",
       "2    1669\n",
       "1    1555\n",
       "0    1304\n",
       "Name: count, dtype: int64"
      ]
     },
     "execution_count": 3,
     "metadata": {},
     "output_type": "execute_result"
    }
   ],
   "source": [
    "df_data[\"label\"].value_counts()"
   ]
  },
  {
   "cell_type": "code",
   "execution_count": 4,
   "metadata": {},
   "outputs": [
    {
     "name": "stdout",
     "output_type": "stream",
     "text": [
      "label\n",
      "3    1304\n",
      "1    1304\n",
      "0    1304\n",
      "2    1304\n",
      "Name: count, dtype: int64\n"
     ]
    }
   ],
   "source": [
    "min_class_count = df_data['label'].value_counts().min()\n",
    "\n",
    "# Realizar undersampling para cada clase\n",
    "balanced_data = pd.DataFrame()\n",
    "for label in df_data['label'].unique():\n",
    "    class_data = df_data[df_data['label'] == label]\n",
    "    resampled_class = resample(class_data,\n",
    "                               replace=False,\n",
    "                               n_samples=min_class_count,  # Igualar al tamaño de la clase minoritaria\n",
    "                               random_state=42)\n",
    "    balanced_data = pd.concat([balanced_data, resampled_class])\n",
    "balanced_data = balanced_data.sample(frac=1, random_state=42).reset_index(drop=True)\n",
    "print(balanced_data['label'].value_counts())"
   ]
  },
  {
   "cell_type": "code",
   "execution_count": 5,
   "metadata": {},
   "outputs": [],
   "source": [
    "responses = balanced_data.pop(\"label\").values"
   ]
  },
  {
   "cell_type": "code",
   "execution_count": 6,
   "metadata": {},
   "outputs": [],
   "source": [
    "train_data, validation_data, train_response, validation_response = train_test_split(balanced_data, responses, random_state=42, test_size=.30)"
   ]
  },
  {
   "attachments": {},
   "cell_type": "markdown",
   "metadata": {},
   "source": [
    "### Training model"
   ]
  },
  {
   "cell_type": "code",
   "execution_count": 7,
   "metadata": {},
   "outputs": [],
   "source": [
    "folder_export = \"../results/classification/\"\n",
    "\n",
    "model_instance = ClassificationModel(\n",
    "    train_values = train_data,\n",
    "    train_response = train_response,\n",
    "    test_values = validation_data,\n",
    "    test_response = validation_response,\n",
    "    folder_export = folder_export\n",
    ")\n",
    "\n",
    "df_exploration, df_curves = model_instance.apply_exploring()\n",
    "df_exploration.to_csv(f\"{folder_export}/results_exploration.csv\", index=False)\n",
    "df_curves.to_csv(f\"{folder_export}/results_curves_exploration.csv\", index=False)"
   ]
  }
 ],
 "metadata": {
  "kernelspec": {
   "display_name": "patient-priority",
   "language": "python",
   "name": "python3"
  },
  "language_info": {
   "codemirror_mode": {
    "name": "ipython",
    "version": 3
   },
   "file_extension": ".py",
   "mimetype": "text/x-python",
   "name": "python",
   "nbconvert_exporter": "python",
   "pygments_lexer": "ipython3",
   "version": "3.13.1"
  },
  "orig_nbformat": 4
 },
 "nbformat": 4,
 "nbformat_minor": 2
}
