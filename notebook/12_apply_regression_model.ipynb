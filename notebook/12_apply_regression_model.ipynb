{
 "cells": [
  {
   "cell_type": "code",
   "execution_count": 1,
   "metadata": {},
   "outputs": [],
   "source": [
    "import sys\n",
    "import pandas as pd\n",
    "sys.path.insert(0, \"../\")\n",
    "\n",
    "from sklearn.model_selection import train_test_split\n",
    "from src.regression.regression_models import RegressionModel"
   ]
  },
  {
   "cell_type": "markdown",
   "metadata": {},
   "source": [
    "### Load generated dataset"
   ]
  },
  {
   "cell_type": "code",
   "execution_count": 2,
   "metadata": {},
   "outputs": [],
   "source": [
    "df_data = pd.read_csv(\"../results/preprocessing/05_dataset_scaled_robust.csv\")\n",
    "df_labels_clustering = pd.read_csv(\"../results/clustering/labels.csv\")\n",
    "\n",
    "df_data = df_data.assign(label=df_labels_clustering[\"minibatch_k_means_k_4\"]) # algoritmo con mejor desempeño\n",
    "responses = df_data.pop(\"blood pressure\").values # modelos de regresion para presion arterial"
   ]
  },
  {
   "cell_type": "code",
   "execution_count": 3,
   "metadata": {},
   "outputs": [],
   "source": [
    "train_data, validation_data, train_response, validation_response = train_test_split(df_data, responses, random_state=42, test_size=.30)"
   ]
  },
  {
   "cell_type": "markdown",
   "metadata": {},
   "source": [
    "### Training model"
   ]
  },
  {
   "cell_type": "code",
   "execution_count": 4,
   "metadata": {},
   "outputs": [],
   "source": [
    "regressor = RegressionModel(\n",
    "    train_values=train_data,\n",
    "    test_values=validation_data,\n",
    "    train_response=train_response,\n",
    "    test_response=validation_response,\n",
    "    folder_export=\"../results/regression\"\n",
    ")\n",
    "\n",
    "df_summary = regressor.apply_regression()"
   ]
  },
  {
   "cell_type": "code",
   "execution_count": 5,
   "metadata": {},
   "outputs": [
    {
     "data": {
      "text/html": [
       "<div>\n",
       "<style scoped>\n",
       "    .dataframe tbody tr th:only-of-type {\n",
       "        vertical-align: middle;\n",
       "    }\n",
       "\n",
       "    .dataframe tbody tr th {\n",
       "        vertical-align: top;\n",
       "    }\n",
       "\n",
       "    .dataframe thead th {\n",
       "        text-align: right;\n",
       "    }\n",
       "</style>\n",
       "<table border=\"1\" class=\"dataframe\">\n",
       "  <thead>\n",
       "    <tr style=\"text-align: right;\">\n",
       "      <th></th>\n",
       "      <th>algorithm</th>\n",
       "      <th>fit_time</th>\n",
       "      <th>score_time</th>\n",
       "      <th>MSE_cv</th>\n",
       "      <th>MAE_cv</th>\n",
       "      <th>R2_cv</th>\n",
       "      <th>MSE_val</th>\n",
       "      <th>MAE_val</th>\n",
       "      <th>R2_val</th>\n",
       "      <th>ExplainedVariance</th>\n",
       "      <th>MAPE</th>\n",
       "    </tr>\n",
       "  </thead>\n",
       "  <tbody>\n",
       "    <tr>\n",
       "      <th>0</th>\n",
       "      <td>LinearRegression</td>\n",
       "      <td>0.004395</td>\n",
       "      <td>0.003077</td>\n",
       "      <td>-0.277495</td>\n",
       "      <td>-0.447433</td>\n",
       "      <td>0.262141</td>\n",
       "      <td>0.290098</td>\n",
       "      <td>0.462261</td>\n",
       "      <td>0.265630</td>\n",
       "      <td>0.265776</td>\n",
       "      <td>1.025612e+13</td>\n",
       "    </tr>\n",
       "    <tr>\n",
       "      <th>1</th>\n",
       "      <td>ElasticNet</td>\n",
       "      <td>0.005754</td>\n",
       "      <td>0.003357</td>\n",
       "      <td>-0.309597</td>\n",
       "      <td>-0.471768</td>\n",
       "      <td>0.176938</td>\n",
       "      <td>0.325194</td>\n",
       "      <td>0.488329</td>\n",
       "      <td>0.176785</td>\n",
       "      <td>0.176889</td>\n",
       "      <td>8.441107e+12</td>\n",
       "    </tr>\n",
       "    <tr>\n",
       "      <th>2</th>\n",
       "      <td>DecisionTree</td>\n",
       "      <td>0.033830</td>\n",
       "      <td>0.002364</td>\n",
       "      <td>-0.463554</td>\n",
       "      <td>-0.548148</td>\n",
       "      <td>-0.233132</td>\n",
       "      <td>0.443448</td>\n",
       "      <td>0.522628</td>\n",
       "      <td>-0.122568</td>\n",
       "      <td>-0.121720</td>\n",
       "      <td>1.943859e+13</td>\n",
       "    </tr>\n",
       "    <tr>\n",
       "      <th>3</th>\n",
       "      <td>RandomForest</td>\n",
       "      <td>2.432258</td>\n",
       "      <td>0.032880</td>\n",
       "      <td>-0.234685</td>\n",
       "      <td>-0.404098</td>\n",
       "      <td>0.375636</td>\n",
       "      <td>0.238682</td>\n",
       "      <td>0.410880</td>\n",
       "      <td>0.395787</td>\n",
       "      <td>0.395787</td>\n",
       "      <td>5.314522e+12</td>\n",
       "    </tr>\n",
       "    <tr>\n",
       "      <th>4</th>\n",
       "      <td>GradientBoosting</td>\n",
       "      <td>0.588971</td>\n",
       "      <td>0.004116</td>\n",
       "      <td>-0.242800</td>\n",
       "      <td>-0.416650</td>\n",
       "      <td>0.354287</td>\n",
       "      <td>0.249280</td>\n",
       "      <td>0.427078</td>\n",
       "      <td>0.368960</td>\n",
       "      <td>0.368965</td>\n",
       "      <td>7.023336e+12</td>\n",
       "    </tr>\n",
       "    <tr>\n",
       "      <th>5</th>\n",
       "      <td>SVR</td>\n",
       "      <td>0.560849</td>\n",
       "      <td>0.172614</td>\n",
       "      <td>-0.285474</td>\n",
       "      <td>-0.454740</td>\n",
       "      <td>0.241072</td>\n",
       "      <td>0.295298</td>\n",
       "      <td>0.467340</td>\n",
       "      <td>0.252467</td>\n",
       "      <td>0.252908</td>\n",
       "      <td>8.813271e+12</td>\n",
       "    </tr>\n",
       "  </tbody>\n",
       "</table>\n",
       "</div>"
      ],
      "text/plain": [
       "          algorithm  fit_time  score_time    MSE_cv    MAE_cv     R2_cv  \\\n",
       "0  LinearRegression  0.004395    0.003077 -0.277495 -0.447433  0.262141   \n",
       "1        ElasticNet  0.005754    0.003357 -0.309597 -0.471768  0.176938   \n",
       "2      DecisionTree  0.033830    0.002364 -0.463554 -0.548148 -0.233132   \n",
       "3      RandomForest  2.432258    0.032880 -0.234685 -0.404098  0.375636   \n",
       "4  GradientBoosting  0.588971    0.004116 -0.242800 -0.416650  0.354287   \n",
       "5               SVR  0.560849    0.172614 -0.285474 -0.454740  0.241072   \n",
       "\n",
       "    MSE_val   MAE_val    R2_val  ExplainedVariance          MAPE  \n",
       "0  0.290098  0.462261  0.265630           0.265776  1.025612e+13  \n",
       "1  0.325194  0.488329  0.176785           0.176889  8.441107e+12  \n",
       "2  0.443448  0.522628 -0.122568          -0.121720  1.943859e+13  \n",
       "3  0.238682  0.410880  0.395787           0.395787  5.314522e+12  \n",
       "4  0.249280  0.427078  0.368960           0.368965  7.023336e+12  \n",
       "5  0.295298  0.467340  0.252467           0.252908  8.813271e+12  "
      ]
     },
     "execution_count": 5,
     "metadata": {},
     "output_type": "execute_result"
    }
   ],
   "source": [
    "df_summary"
   ]
  }
 ],
 "metadata": {
  "kernelspec": {
   "display_name": "patient-priority",
   "language": "python",
   "name": "python3"
  },
  "language_info": {
   "codemirror_mode": {
    "name": "ipython",
    "version": 3
   },
   "file_extension": ".py",
   "mimetype": "text/x-python",
   "name": "python",
   "nbconvert_exporter": "python",
   "pygments_lexer": "ipython3",
   "version": "3.13.1"
  }
 },
 "nbformat": 4,
 "nbformat_minor": 2
}
