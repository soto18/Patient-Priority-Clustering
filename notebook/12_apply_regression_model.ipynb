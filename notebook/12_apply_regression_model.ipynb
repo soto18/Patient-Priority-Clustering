{
 "cells": [
  {
   "cell_type": "code",
   "execution_count": 1,
   "metadata": {},
   "outputs": [],
   "source": [
    "import sys\n",
    "import pandas as pd\n",
    "sys.path.insert(0, \"../\")\n",
    "\n",
    "from sklearn.model_selection import train_test_split\n",
    "from src.regression.regression_models import RegressionModel"
   ]
  },
  {
   "cell_type": "markdown",
   "metadata": {},
   "source": [
    "### Load generated dataset"
   ]
  },
  {
   "cell_type": "code",
   "execution_count": 2,
   "metadata": {},
   "outputs": [],
   "source": [
    "df_data = pd.read_csv(\"../results/preprocessing/05_dataset_scaled_robust.csv\")\n",
    "df_labels_clustering = pd.read_csv(\"../results/clustering/labels.csv\")\n",
    "\n",
    "df_data = df_data.assign(label=df_labels_clustering[\"minibatch_k_means_k_4\"]) # algoritmo con mejor desempeño\n",
    "responses = df_data.pop(\"blood pressure\").values # modelos de regresion para presion arterial"
   ]
  },
  {
   "cell_type": "code",
   "execution_count": 3,
   "metadata": {},
   "outputs": [],
   "source": [
    "train_data, validation_data, train_response, validation_response = train_test_split(df_data, responses, random_state=42, test_size=.30)"
   ]
  },
  {
   "cell_type": "markdown",
   "metadata": {},
   "source": [
    "### Training model"
   ]
  },
  {
   "cell_type": "code",
   "execution_count": 4,
   "metadata": {},
   "outputs": [],
   "source": [
    "regressor = RegressionModel(\n",
    "    train_values=train_data,\n",
    "    test_values=validation_data,\n",
    "    train_response=train_response,\n",
    "    test_response=validation_response,\n",
    "    folder_export=\"../results/regression\"\n",
    ")\n",
    "\n",
    "df_summary = regressor.apply_regression()"
   ]
  },
  {
   "cell_type": "code",
   "execution_count": 5,
   "metadata": {},
   "outputs": [
    {
     "data": {
      "text/html": [
       "<div>\n",
       "<style scoped>\n",
       "    .dataframe tbody tr th:only-of-type {\n",
       "        vertical-align: middle;\n",
       "    }\n",
       "\n",
       "    .dataframe tbody tr th {\n",
       "        vertical-align: top;\n",
       "    }\n",
       "\n",
       "    .dataframe thead th {\n",
       "        text-align: right;\n",
       "    }\n",
       "</style>\n",
       "<table border=\"1\" class=\"dataframe\">\n",
       "  <thead>\n",
       "    <tr style=\"text-align: right;\">\n",
       "      <th></th>\n",
       "      <th>algorithm</th>\n",
       "      <th>fit_time</th>\n",
       "      <th>score_time</th>\n",
       "      <th>MSE_cv</th>\n",
       "      <th>MAE_cv</th>\n",
       "      <th>R2_cv</th>\n",
       "      <th>MSE_val</th>\n",
       "      <th>MAE_val</th>\n",
       "      <th>R2_val</th>\n",
       "      <th>ExplainedVariance</th>\n",
       "      <th>MAPE</th>\n",
       "    </tr>\n",
       "  </thead>\n",
       "  <tbody>\n",
       "    <tr>\n",
       "      <th>0</th>\n",
       "      <td>LinearRegression</td>\n",
       "      <td>0.012304</td>\n",
       "      <td>0.007558</td>\n",
       "      <td>-0.277495</td>\n",
       "      <td>-0.447433</td>\n",
       "      <td>0.262141</td>\n",
       "      <td>0.290098</td>\n",
       "      <td>0.462261</td>\n",
       "      <td>0.265630</td>\n",
       "      <td>0.265776</td>\n",
       "      <td>1.025612e+13</td>\n",
       "    </tr>\n",
       "    <tr>\n",
       "      <th>1</th>\n",
       "      <td>ElasticNet</td>\n",
       "      <td>0.015776</td>\n",
       "      <td>0.009148</td>\n",
       "      <td>-0.309597</td>\n",
       "      <td>-0.471768</td>\n",
       "      <td>0.176938</td>\n",
       "      <td>0.325194</td>\n",
       "      <td>0.488329</td>\n",
       "      <td>0.176785</td>\n",
       "      <td>0.176889</td>\n",
       "      <td>8.441107e+12</td>\n",
       "    </tr>\n",
       "    <tr>\n",
       "      <th>2</th>\n",
       "      <td>DecisionTree</td>\n",
       "      <td>0.030125</td>\n",
       "      <td>0.002495</td>\n",
       "      <td>-0.464602</td>\n",
       "      <td>-0.548017</td>\n",
       "      <td>-0.236002</td>\n",
       "      <td>0.433107</td>\n",
       "      <td>0.514852</td>\n",
       "      <td>-0.096390</td>\n",
       "      <td>-0.095249</td>\n",
       "      <td>2.028943e+13</td>\n",
       "    </tr>\n",
       "    <tr>\n",
       "      <th>3</th>\n",
       "      <td>RandomForest</td>\n",
       "      <td>1.825767</td>\n",
       "      <td>0.019817</td>\n",
       "      <td>-0.234766</td>\n",
       "      <td>-0.404215</td>\n",
       "      <td>0.375435</td>\n",
       "      <td>0.238276</td>\n",
       "      <td>0.410712</td>\n",
       "      <td>0.396816</td>\n",
       "      <td>0.396818</td>\n",
       "      <td>5.559959e+12</td>\n",
       "    </tr>\n",
       "    <tr>\n",
       "      <th>4</th>\n",
       "      <td>GradientBoosting</td>\n",
       "      <td>0.475641</td>\n",
       "      <td>0.003549</td>\n",
       "      <td>-0.242799</td>\n",
       "      <td>-0.416664</td>\n",
       "      <td>0.354288</td>\n",
       "      <td>0.249280</td>\n",
       "      <td>0.427064</td>\n",
       "      <td>0.368958</td>\n",
       "      <td>0.368963</td>\n",
       "      <td>7.023336e+12</td>\n",
       "    </tr>\n",
       "    <tr>\n",
       "      <th>5</th>\n",
       "      <td>SVR</td>\n",
       "      <td>0.446325</td>\n",
       "      <td>0.129838</td>\n",
       "      <td>-0.285474</td>\n",
       "      <td>-0.454740</td>\n",
       "      <td>0.241072</td>\n",
       "      <td>0.295298</td>\n",
       "      <td>0.467340</td>\n",
       "      <td>0.252467</td>\n",
       "      <td>0.252908</td>\n",
       "      <td>8.813271e+12</td>\n",
       "    </tr>\n",
       "  </tbody>\n",
       "</table>\n",
       "</div>"
      ],
      "text/plain": [
       "          algorithm  fit_time  score_time    MSE_cv    MAE_cv     R2_cv  \\\n",
       "0  LinearRegression  0.012304    0.007558 -0.277495 -0.447433  0.262141   \n",
       "1        ElasticNet  0.015776    0.009148 -0.309597 -0.471768  0.176938   \n",
       "2      DecisionTree  0.030125    0.002495 -0.464602 -0.548017 -0.236002   \n",
       "3      RandomForest  1.825767    0.019817 -0.234766 -0.404215  0.375435   \n",
       "4  GradientBoosting  0.475641    0.003549 -0.242799 -0.416664  0.354288   \n",
       "5               SVR  0.446325    0.129838 -0.285474 -0.454740  0.241072   \n",
       "\n",
       "    MSE_val   MAE_val    R2_val  ExplainedVariance          MAPE  \n",
       "0  0.290098  0.462261  0.265630           0.265776  1.025612e+13  \n",
       "1  0.325194  0.488329  0.176785           0.176889  8.441107e+12  \n",
       "2  0.433107  0.514852 -0.096390          -0.095249  2.028943e+13  \n",
       "3  0.238276  0.410712  0.396816           0.396818  5.559959e+12  \n",
       "4  0.249280  0.427064  0.368958           0.368963  7.023336e+12  \n",
       "5  0.295298  0.467340  0.252467           0.252908  8.813271e+12  "
      ]
     },
     "execution_count": 5,
     "metadata": {},
     "output_type": "execute_result"
    }
   ],
   "source": [
    "df_summary"
   ]
  }
 ],
 "metadata": {
  "kernelspec": {
   "display_name": "patient-priority",
   "language": "python",
   "name": "python3"
  },
  "language_info": {
   "codemirror_mode": {
    "name": "ipython",
    "version": 3
   },
   "file_extension": ".py",
   "mimetype": "text/x-python",
   "name": "python",
   "nbconvert_exporter": "python",
   "pygments_lexer": "ipython3",
   "version": "3.10.0"
  }
 },
 "nbformat": 4,
 "nbformat_minor": 2
}
