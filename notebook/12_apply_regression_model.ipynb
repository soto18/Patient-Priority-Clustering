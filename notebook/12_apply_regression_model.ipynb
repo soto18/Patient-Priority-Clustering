{
 "cells": [
  {
   "cell_type": "code",
   "execution_count": 1,
   "metadata": {},
   "outputs": [],
   "source": [
    "import sys\n",
    "import pandas as pd\n",
    "sys.path.insert(0, \"../\")\n",
    "\n",
    "from sklearn.model_selection import train_test_split\n",
    "from src.regression.regression_models import RegressionModel"
   ]
  },
  {
   "cell_type": "markdown",
   "metadata": {},
   "source": [
    "### Load generated dataset"
   ]
  },
  {
   "cell_type": "code",
   "execution_count": 2,
   "metadata": {},
   "outputs": [],
   "source": [
    "df_data = pd.read_csv(\"../results/preprocessing/05_dataset_scaled_robust.csv\")\n",
    "df_labels_clustering = pd.read_csv(\"../results/clustering/labels.csv\")\n",
    "\n",
    "df_data = df_data.assign(label=df_labels_clustering[\"minibatch_k_means_k_4\"]) # algoritmo con mejor desempeño\n",
    "responses = df_data.pop(\"blood pressure\").values # modelos de regresion para presion arterial"
   ]
  },
  {
   "cell_type": "code",
   "execution_count": 3,
   "metadata": {},
   "outputs": [],
   "source": [
    "train_data, validation_data, train_response, validation_response = train_test_split(df_data, responses, random_state=42, test_size=.30)"
   ]
  },
  {
   "cell_type": "markdown",
   "metadata": {},
   "source": [
    "### Training model"
   ]
  },
  {
   "cell_type": "code",
   "execution_count": 4,
   "metadata": {},
   "outputs": [],
   "source": [
    "regressor = RegressionModel(\n",
    "    train_values=train_data,\n",
    "    test_values=validation_data,\n",
    "    train_response=train_response,\n",
    "    test_response=validation_response,\n",
    "    folder_export=\"../results/regression\"\n",
    ")\n",
    "\n",
    "df_summary = regressor.apply_regression()"
   ]
  }
 ],
 "metadata": {
  "kernelspec": {
   "display_name": "patient-priority",
   "language": "python",
   "name": "python3"
  },
  "language_info": {
   "codemirror_mode": {
    "name": "ipython",
    "version": 3
   },
   "file_extension": ".py",
   "mimetype": "text/x-python",
   "name": "python",
   "nbconvert_exporter": "python",
   "pygments_lexer": "ipython3",
   "version": "3.13.1"
  }
 },
 "nbformat": 4,
 "nbformat_minor": 2
}
