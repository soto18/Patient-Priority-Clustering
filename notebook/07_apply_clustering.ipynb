{
 "cells": [
  {
   "cell_type": "markdown",
   "metadata": {},
   "source": [
    "#### Applies clustering algorithms"
   ]
  },
  {
   "cell_type": "code",
   "execution_count": 1,
   "metadata": {},
   "outputs": [],
   "source": [
    "import sys\n",
    "import pandas as pd\n",
    "sys.path.insert(0, \"../\")\n",
    "\n",
    "from src.clustering.apply_clustering import ClusteringAnalysis"
   ]
  },
  {
   "cell_type": "code",
   "execution_count": 2,
   "metadata": {},
   "outputs": [],
   "source": [
    "df_data = pd.read_csv(\"../results/preprocessing/05_dataset_scaled_robust.csv\")\n",
    "df_labels = pd.read_csv(\"../results/preprocessing/labels.csv\")"
   ]
  },
  {
   "cell_type": "code",
   "execution_count": 3,
   "metadata": {},
   "outputs": [
    {
     "name": "stdout",
     "output_type": "stream",
     "text": [
      "Running k_means_k_4\n",
      "Running minibatch_k_means_k_4\n",
      "Running Agglomerative_k_4\n",
      "Running Birch_k_4\n",
      "Running Spectral_k_4\n",
      "Running DBSCAN\n",
      "Error with DBSCAN: Number of labels is 1. Valid values are 2 to n_samples - 1 (inclusive)\n",
      "Running OPTICS\n",
      "Running MeanShift\n",
      "Running AffinityPropagation\n",
      "\n",
      "** Results saved to ../results/clustering/performances.csv and ../results/clustering/labels.csv **\n"
     ]
    }
   ],
   "source": [
    "clustering = ClusteringAnalysis(df_data=df_data,\n",
    "                                df_labels=df_labels)\n",
    "clustering.run_all_algorithms()\n",
    "clustering.save_results(performance_path=\"../results/clustering/performances.csv\",\n",
    "                        labels_path=\"../results/clustering/labels.csv\")"
   ]
  }
 ],
 "metadata": {
  "kernelspec": {
   "display_name": "patient-priority",
   "language": "python",
   "name": "python3"
  },
  "language_info": {
   "codemirror_mode": {
    "name": "ipython",
    "version": 3
   },
   "file_extension": ".py",
   "mimetype": "text/x-python",
   "name": "python",
   "nbconvert_exporter": "python",
   "pygments_lexer": "ipython3",
   "version": "3.13.1"
  }
 },
 "nbformat": 4,
 "nbformat_minor": 2
}
