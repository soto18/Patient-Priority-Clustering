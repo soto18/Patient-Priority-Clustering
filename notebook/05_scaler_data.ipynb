{
 "cells": [
  {
   "cell_type": "markdown",
   "metadata": {},
   "source": [
    "#### Scale numeric descriptors"
   ]
  },
  {
   "cell_type": "code",
   "execution_count": 7,
   "metadata": {},
   "outputs": [],
   "source": [
    "import sys\n",
    "import pandas as pd\n",
    "sys.path.insert(0, \"../\")\n",
    "\n",
    "from src.preprocessing.scaler import DataScaler"
   ]
  },
  {
   "cell_type": "code",
   "execution_count": 8,
   "metadata": {},
   "outputs": [],
   "source": [
    "df_data = pd.read_csv(\"../results/preprocessing/02_dataset_preprocessing.csv\")\n",
    "scaler = DataScaler(data=df_data)"
   ]
  },
  {
   "cell_type": "markdown",
   "metadata": {},
   "source": [
    "#### Separating non-binary data for scaling\n",
    "Scaling binary data can alter its meaning and these are already in the appropriate scale (0 and 1). The same occurs with the column `chest pain type` with value in range 0 to 4."
   ]
  },
  {
   "cell_type": "code",
   "execution_count": 9,
   "metadata": {},
   "outputs": [],
   "source": [
    "df_binary, df_non_binary = scaler.separating_data()"
   ]
  },
  {
   "cell_type": "markdown",
   "metadata": {},
   "source": [
    "#### Scaling the data with Robust Scaler\n",
    "Robust Scaler is used because the data has some outlier examples and it is a scaler that is not very sensitive to outliers"
   ]
  },
  {
   "cell_type": "code",
   "execution_count": 10,
   "metadata": {},
   "outputs": [
    {
     "data": {
      "text/html": [
       "<div>\n",
       "<style scoped>\n",
       "    .dataframe tbody tr th:only-of-type {\n",
       "        vertical-align: middle;\n",
       "    }\n",
       "\n",
       "    .dataframe tbody tr th {\n",
       "        vertical-align: top;\n",
       "    }\n",
       "\n",
       "    .dataframe thead th {\n",
       "        text-align: right;\n",
       "    }\n",
       "</style>\n",
       "<table border=\"1\" class=\"dataframe\">\n",
       "  <thead>\n",
       "    <tr style=\"text-align: right;\">\n",
       "      <th></th>\n",
       "      <th>blood pressure</th>\n",
       "      <th>bmi</th>\n",
       "      <th>cholesterol</th>\n",
       "      <th>insulin</th>\n",
       "      <th>max heart rate</th>\n",
       "      <th>plasma glucose</th>\n",
       "      <th>skin_thickness</th>\n",
       "    </tr>\n",
       "  </thead>\n",
       "  <tbody>\n",
       "    <tr>\n",
       "      <th>0</th>\n",
       "      <td>0.771429</td>\n",
       "      <td>-0.819149</td>\n",
       "      <td>3.965517</td>\n",
       "      <td>-0.678571</td>\n",
       "      <td>0.333333</td>\n",
       "      <td>0.453333</td>\n",
       "      <td>-0.317073</td>\n",
       "    </tr>\n",
       "    <tr>\n",
       "      <th>1</th>\n",
       "      <td>1.342857</td>\n",
       "      <td>-0.925532</td>\n",
       "      <td>0.034483</td>\n",
       "      <td>-0.750000</td>\n",
       "      <td>-0.259259</td>\n",
       "      <td>-0.546667</td>\n",
       "      <td>-0.219512</td>\n",
       "    </tr>\n",
       "    <tr>\n",
       "      <th>2</th>\n",
       "      <td>0.485714</td>\n",
       "      <td>-0.393617</td>\n",
       "      <td>3.965517</td>\n",
       "      <td>-0.321429</td>\n",
       "      <td>-0.259259</td>\n",
       "      <td>0.150303</td>\n",
       "      <td>-0.073171</td>\n",
       "    </tr>\n",
       "    <tr>\n",
       "      <th>3</th>\n",
       "      <td>0.714286</td>\n",
       "      <td>-0.925532</td>\n",
       "      <td>1.206897</td>\n",
       "      <td>0.250000</td>\n",
       "      <td>-0.259259</td>\n",
       "      <td>-0.637576</td>\n",
       "      <td>-0.121951</td>\n",
       "    </tr>\n",
       "    <tr>\n",
       "      <th>4</th>\n",
       "      <td>1.057143</td>\n",
       "      <td>-0.606383</td>\n",
       "      <td>0.551724</td>\n",
       "      <td>-1.000000</td>\n",
       "      <td>-0.259259</td>\n",
       "      <td>0.453333</td>\n",
       "      <td>0.829268</td>\n",
       "    </tr>\n",
       "  </tbody>\n",
       "</table>\n",
       "</div>"
      ],
      "text/plain": [
       "   blood pressure       bmi  cholesterol   insulin  max heart rate  \\\n",
       "0        0.771429 -0.819149     3.965517 -0.678571        0.333333   \n",
       "1        1.342857 -0.925532     0.034483 -0.750000       -0.259259   \n",
       "2        0.485714 -0.393617     3.965517 -0.321429       -0.259259   \n",
       "3        0.714286 -0.925532     1.206897  0.250000       -0.259259   \n",
       "4        1.057143 -0.606383     0.551724 -1.000000       -0.259259   \n",
       "\n",
       "   plasma glucose  skin_thickness  \n",
       "0        0.453333       -0.317073  \n",
       "1       -0.546667       -0.219512  \n",
       "2        0.150303       -0.073171  \n",
       "3       -0.637576       -0.121951  \n",
       "4        0.453333        0.829268  "
      ]
     },
     "execution_count": 10,
     "metadata": {},
     "output_type": "execute_result"
    }
   ],
   "source": [
    "df_scaled, scaler_instance = scaler.scale_data(df_non_binary=df_non_binary)\n",
    "df_scaled.head()"
   ]
  },
  {
   "cell_type": "markdown",
   "metadata": {},
   "source": [
    "#### Save data"
   ]
  },
  {
   "cell_type": "code",
   "execution_count": 11,
   "metadata": {},
   "outputs": [],
   "source": [
    "scaler.save_results(df_binary=df_binary,\n",
    "                    df_scaled=df_scaled,\n",
    "                    scaler_instance=scaler_instance,\n",
    "                    output_csv=\"../results/preprocessing/05_dataset_scaled_robust.csv\",\n",
    "                    output_scaler=\"../results/preprocessing/scaler_robust.joblib\"\n",
    ")"
   ]
  }
 ],
 "metadata": {
  "kernelspec": {
   "display_name": "patient-priority",
   "language": "python",
   "name": "python3"
  },
  "language_info": {
   "codemirror_mode": {
    "name": "ipython",
    "version": 3
   },
   "file_extension": ".py",
   "mimetype": "text/x-python",
   "name": "python",
   "nbconvert_exporter": "python",
   "pygments_lexer": "ipython3",
   "version": "3.13.1"
  },
  "orig_nbformat": 4
 },
 "nbformat": 4,
 "nbformat_minor": 2
}
