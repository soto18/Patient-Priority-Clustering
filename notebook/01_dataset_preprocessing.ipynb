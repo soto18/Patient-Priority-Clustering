{
 "cells": [
  {
   "cell_type": "code",
   "execution_count": 1,
   "metadata": {},
   "outputs": [],
   "source": [
    "import pandas as pd\n",
    "import os"
   ]
  },
  {
   "cell_type": "code",
   "execution_count": 2,
   "metadata": {},
   "outputs": [
    {
     "data": {
      "text/html": [
       "<div>\n",
       "<style scoped>\n",
       "    .dataframe tbody tr th:only-of-type {\n",
       "        vertical-align: middle;\n",
       "    }\n",
       "\n",
       "    .dataframe tbody tr th {\n",
       "        vertical-align: top;\n",
       "    }\n",
       "\n",
       "    .dataframe thead th {\n",
       "        text-align: right;\n",
       "    }\n",
       "</style>\n",
       "<table border=\"1\" class=\"dataframe\">\n",
       "  <thead>\n",
       "    <tr style=\"text-align: right;\">\n",
       "      <th></th>\n",
       "      <th>Unnamed: 0</th>\n",
       "      <th>age</th>\n",
       "      <th>gender</th>\n",
       "      <th>chest pain type</th>\n",
       "      <th>blood pressure</th>\n",
       "      <th>cholesterol</th>\n",
       "      <th>max heart rate</th>\n",
       "      <th>exercise angina</th>\n",
       "      <th>plasma glucose</th>\n",
       "      <th>skin_thickness</th>\n",
       "      <th>insulin</th>\n",
       "      <th>bmi</th>\n",
       "      <th>diabetes_pedigree</th>\n",
       "      <th>hypertension</th>\n",
       "      <th>heart_disease</th>\n",
       "      <th>Residence_type</th>\n",
       "      <th>smoking_status</th>\n",
       "      <th>triage</th>\n",
       "    </tr>\n",
       "  </thead>\n",
       "  <tbody>\n",
       "    <tr>\n",
       "      <th>0</th>\n",
       "      <td>0</td>\n",
       "      <td>40.0</td>\n",
       "      <td>1.0</td>\n",
       "      <td>2.0</td>\n",
       "      <td>140.0</td>\n",
       "      <td>294.0</td>\n",
       "      <td>172.0</td>\n",
       "      <td>0.0</td>\n",
       "      <td>108.0</td>\n",
       "      <td>43.0</td>\n",
       "      <td>92.0</td>\n",
       "      <td>19.0</td>\n",
       "      <td>0.467386</td>\n",
       "      <td>0.0</td>\n",
       "      <td>0.0</td>\n",
       "      <td>Urban</td>\n",
       "      <td>never smoked</td>\n",
       "      <td>yellow</td>\n",
       "    </tr>\n",
       "    <tr>\n",
       "      <th>1</th>\n",
       "      <td>1</td>\n",
       "      <td>49.0</td>\n",
       "      <td>0.0</td>\n",
       "      <td>3.0</td>\n",
       "      <td>160.0</td>\n",
       "      <td>180.0</td>\n",
       "      <td>156.0</td>\n",
       "      <td>0.0</td>\n",
       "      <td>75.0</td>\n",
       "      <td>47.0</td>\n",
       "      <td>90.0</td>\n",
       "      <td>18.0</td>\n",
       "      <td>0.467386</td>\n",
       "      <td>0.0</td>\n",
       "      <td>0.0</td>\n",
       "      <td>Urban</td>\n",
       "      <td>never smoked</td>\n",
       "      <td>orange</td>\n",
       "    </tr>\n",
       "    <tr>\n",
       "      <th>2</th>\n",
       "      <td>2</td>\n",
       "      <td>37.0</td>\n",
       "      <td>1.0</td>\n",
       "      <td>2.0</td>\n",
       "      <td>130.0</td>\n",
       "      <td>294.0</td>\n",
       "      <td>156.0</td>\n",
       "      <td>0.0</td>\n",
       "      <td>98.0</td>\n",
       "      <td>53.0</td>\n",
       "      <td>102.0</td>\n",
       "      <td>23.0</td>\n",
       "      <td>0.467386</td>\n",
       "      <td>0.0</td>\n",
       "      <td>0.0</td>\n",
       "      <td>Urban</td>\n",
       "      <td>never smoked</td>\n",
       "      <td>yellow</td>\n",
       "    </tr>\n",
       "    <tr>\n",
       "      <th>3</th>\n",
       "      <td>3</td>\n",
       "      <td>48.0</td>\n",
       "      <td>0.0</td>\n",
       "      <td>4.0</td>\n",
       "      <td>138.0</td>\n",
       "      <td>214.0</td>\n",
       "      <td>156.0</td>\n",
       "      <td>1.0</td>\n",
       "      <td>72.0</td>\n",
       "      <td>51.0</td>\n",
       "      <td>118.0</td>\n",
       "      <td>18.0</td>\n",
       "      <td>0.467386</td>\n",
       "      <td>0.0</td>\n",
       "      <td>0.0</td>\n",
       "      <td>Urban</td>\n",
       "      <td>never smoked</td>\n",
       "      <td>orange</td>\n",
       "    </tr>\n",
       "    <tr>\n",
       "      <th>4</th>\n",
       "      <td>4</td>\n",
       "      <td>54.0</td>\n",
       "      <td>1.0</td>\n",
       "      <td>3.0</td>\n",
       "      <td>150.0</td>\n",
       "      <td>195.0</td>\n",
       "      <td>156.0</td>\n",
       "      <td>0.0</td>\n",
       "      <td>108.0</td>\n",
       "      <td>90.0</td>\n",
       "      <td>83.0</td>\n",
       "      <td>21.0</td>\n",
       "      <td>0.467386</td>\n",
       "      <td>0.0</td>\n",
       "      <td>0.0</td>\n",
       "      <td>Urban</td>\n",
       "      <td>never smoked</td>\n",
       "      <td>yellow</td>\n",
       "    </tr>\n",
       "  </tbody>\n",
       "</table>\n",
       "</div>"
      ],
      "text/plain": [
       "   Unnamed: 0   age  gender  chest pain type  blood pressure  cholesterol  \\\n",
       "0           0  40.0     1.0              2.0           140.0        294.0   \n",
       "1           1  49.0     0.0              3.0           160.0        180.0   \n",
       "2           2  37.0     1.0              2.0           130.0        294.0   \n",
       "3           3  48.0     0.0              4.0           138.0        214.0   \n",
       "4           4  54.0     1.0              3.0           150.0        195.0   \n",
       "\n",
       "   max heart rate  exercise angina  plasma glucose  skin_thickness  insulin  \\\n",
       "0           172.0              0.0           108.0            43.0     92.0   \n",
       "1           156.0              0.0            75.0            47.0     90.0   \n",
       "2           156.0              0.0            98.0            53.0    102.0   \n",
       "3           156.0              1.0            72.0            51.0    118.0   \n",
       "4           156.0              0.0           108.0            90.0     83.0   \n",
       "\n",
       "    bmi  diabetes_pedigree  hypertension  heart_disease Residence_type  \\\n",
       "0  19.0           0.467386           0.0            0.0          Urban   \n",
       "1  18.0           0.467386           0.0            0.0          Urban   \n",
       "2  23.0           0.467386           0.0            0.0          Urban   \n",
       "3  18.0           0.467386           0.0            0.0          Urban   \n",
       "4  21.0           0.467386           0.0            0.0          Urban   \n",
       "\n",
       "  smoking_status  triage  \n",
       "0   never smoked  yellow  \n",
       "1   never smoked  orange  \n",
       "2   never smoked  yellow  \n",
       "3   never smoked  orange  \n",
       "4   never smoked  yellow  "
      ]
     },
     "execution_count": 2,
     "metadata": {},
     "output_type": "execute_result"
    }
   ],
   "source": [
    "df_data = pd.read_csv(\"../input/patient_priority.csv\")\n",
    "df_data.head(5)"
   ]
  },
  {
   "cell_type": "markdown",
   "metadata": {},
   "source": [
    "#### Basic description of the dataset"
   ]
  },
  {
   "cell_type": "code",
   "execution_count": 3,
   "metadata": {},
   "outputs": [
    {
     "data": {
      "text/plain": [
       "(6962, 18)"
      ]
     },
     "execution_count": 3,
     "metadata": {},
     "output_type": "execute_result"
    }
   ],
   "source": [
    "df_data.shape"
   ]
  },
  {
   "cell_type": "code",
   "execution_count": 4,
   "metadata": {},
   "outputs": [
    {
     "data": {
      "text/html": [
       "<div>\n",
       "<style scoped>\n",
       "    .dataframe tbody tr th:only-of-type {\n",
       "        vertical-align: middle;\n",
       "    }\n",
       "\n",
       "    .dataframe tbody tr th {\n",
       "        vertical-align: top;\n",
       "    }\n",
       "\n",
       "    .dataframe thead th {\n",
       "        text-align: right;\n",
       "    }\n",
       "</style>\n",
       "<table border=\"1\" class=\"dataframe\">\n",
       "  <thead>\n",
       "    <tr style=\"text-align: right;\">\n",
       "      <th></th>\n",
       "      <th>Unnamed: 0</th>\n",
       "      <th>age</th>\n",
       "      <th>gender</th>\n",
       "      <th>chest pain type</th>\n",
       "      <th>blood pressure</th>\n",
       "      <th>cholesterol</th>\n",
       "      <th>max heart rate</th>\n",
       "      <th>exercise angina</th>\n",
       "      <th>plasma glucose</th>\n",
       "      <th>skin_thickness</th>\n",
       "      <th>insulin</th>\n",
       "      <th>bmi</th>\n",
       "      <th>diabetes_pedigree</th>\n",
       "      <th>hypertension</th>\n",
       "      <th>heart_disease</th>\n",
       "    </tr>\n",
       "  </thead>\n",
       "  <tbody>\n",
       "    <tr>\n",
       "      <th>count</th>\n",
       "      <td>6962.000000</td>\n",
       "      <td>6962.000000</td>\n",
       "      <td>6961.000000</td>\n",
       "      <td>6962.000000</td>\n",
       "      <td>6962.000000</td>\n",
       "      <td>6962.000000</td>\n",
       "      <td>6962.000000</td>\n",
       "      <td>6962.000000</td>\n",
       "      <td>6962.000000</td>\n",
       "      <td>6962.000000</td>\n",
       "      <td>6962.000000</td>\n",
       "      <td>6962.000000</td>\n",
       "      <td>6962.000000</td>\n",
       "      <td>6962.000000</td>\n",
       "      <td>6962.000000</td>\n",
       "    </tr>\n",
       "    <tr>\n",
       "      <th>mean</th>\n",
       "      <td>2011.954180</td>\n",
       "      <td>57.450014</td>\n",
       "      <td>0.531964</td>\n",
       "      <td>0.529015</td>\n",
       "      <td>109.629991</td>\n",
       "      <td>184.711290</td>\n",
       "      <td>163.502442</td>\n",
       "      <td>0.061764</td>\n",
       "      <td>98.394283</td>\n",
       "      <td>56.813416</td>\n",
       "      <td>111.091640</td>\n",
       "      <td>27.190908</td>\n",
       "      <td>0.467386</td>\n",
       "      <td>0.071531</td>\n",
       "      <td>0.039500</td>\n",
       "    </tr>\n",
       "    <tr>\n",
       "      <th>std</th>\n",
       "      <td>1560.966466</td>\n",
       "      <td>11.904948</td>\n",
       "      <td>0.499013</td>\n",
       "      <td>1.253791</td>\n",
       "      <td>21.534852</td>\n",
       "      <td>32.010359</td>\n",
       "      <td>15.458693</td>\n",
       "      <td>0.240743</td>\n",
       "      <td>28.598084</td>\n",
       "      <td>22.889316</td>\n",
       "      <td>17.470033</td>\n",
       "      <td>7.362886</td>\n",
       "      <td>0.102663</td>\n",
       "      <td>0.257729</td>\n",
       "      <td>0.194796</td>\n",
       "    </tr>\n",
       "    <tr>\n",
       "      <th>min</th>\n",
       "      <td>0.000000</td>\n",
       "      <td>28.000000</td>\n",
       "      <td>0.000000</td>\n",
       "      <td>0.000000</td>\n",
       "      <td>60.000000</td>\n",
       "      <td>150.000000</td>\n",
       "      <td>138.000000</td>\n",
       "      <td>0.000000</td>\n",
       "      <td>55.120000</td>\n",
       "      <td>21.000000</td>\n",
       "      <td>81.000000</td>\n",
       "      <td>10.300000</td>\n",
       "      <td>0.078000</td>\n",
       "      <td>0.000000</td>\n",
       "      <td>0.000000</td>\n",
       "    </tr>\n",
       "    <tr>\n",
       "      <th>25%</th>\n",
       "      <td>604.000000</td>\n",
       "      <td>48.000000</td>\n",
       "      <td>0.000000</td>\n",
       "      <td>0.000000</td>\n",
       "      <td>92.000000</td>\n",
       "      <td>164.000000</td>\n",
       "      <td>150.000000</td>\n",
       "      <td>0.000000</td>\n",
       "      <td>78.707500</td>\n",
       "      <td>36.000000</td>\n",
       "      <td>97.000000</td>\n",
       "      <td>21.800000</td>\n",
       "      <td>0.467386</td>\n",
       "      <td>0.000000</td>\n",
       "      <td>0.000000</td>\n",
       "    </tr>\n",
       "    <tr>\n",
       "      <th>50%</th>\n",
       "      <td>1628.500000</td>\n",
       "      <td>56.000000</td>\n",
       "      <td>1.000000</td>\n",
       "      <td>0.000000</td>\n",
       "      <td>111.000000</td>\n",
       "      <td>179.000000</td>\n",
       "      <td>163.000000</td>\n",
       "      <td>0.000000</td>\n",
       "      <td>93.000000</td>\n",
       "      <td>55.000000</td>\n",
       "      <td>111.000000</td>\n",
       "      <td>26.200000</td>\n",
       "      <td>0.467386</td>\n",
       "      <td>0.000000</td>\n",
       "      <td>0.000000</td>\n",
       "    </tr>\n",
       "    <tr>\n",
       "      <th>75%</th>\n",
       "      <td>3368.750000</td>\n",
       "      <td>66.000000</td>\n",
       "      <td>1.000000</td>\n",
       "      <td>0.000000</td>\n",
       "      <td>127.000000</td>\n",
       "      <td>192.000000</td>\n",
       "      <td>177.000000</td>\n",
       "      <td>0.000000</td>\n",
       "      <td>111.632500</td>\n",
       "      <td>77.000000</td>\n",
       "      <td>125.000000</td>\n",
       "      <td>31.000000</td>\n",
       "      <td>0.467386</td>\n",
       "      <td>0.000000</td>\n",
       "      <td>0.000000</td>\n",
       "    </tr>\n",
       "    <tr>\n",
       "      <th>max</th>\n",
       "      <td>5109.000000</td>\n",
       "      <td>82.000000</td>\n",
       "      <td>1.000000</td>\n",
       "      <td>4.000000</td>\n",
       "      <td>165.000000</td>\n",
       "      <td>294.000000</td>\n",
       "      <td>202.000000</td>\n",
       "      <td>1.000000</td>\n",
       "      <td>199.000000</td>\n",
       "      <td>99.000000</td>\n",
       "      <td>171.000000</td>\n",
       "      <td>66.800000</td>\n",
       "      <td>2.420000</td>\n",
       "      <td>1.000000</td>\n",
       "      <td>1.000000</td>\n",
       "    </tr>\n",
       "  </tbody>\n",
       "</table>\n",
       "</div>"
      ],
      "text/plain": [
       "        Unnamed: 0          age       gender  chest pain type  blood pressure  \\\n",
       "count  6962.000000  6962.000000  6961.000000      6962.000000     6962.000000   \n",
       "mean   2011.954180    57.450014     0.531964         0.529015      109.629991   \n",
       "std    1560.966466    11.904948     0.499013         1.253791       21.534852   \n",
       "min       0.000000    28.000000     0.000000         0.000000       60.000000   \n",
       "25%     604.000000    48.000000     0.000000         0.000000       92.000000   \n",
       "50%    1628.500000    56.000000     1.000000         0.000000      111.000000   \n",
       "75%    3368.750000    66.000000     1.000000         0.000000      127.000000   \n",
       "max    5109.000000    82.000000     1.000000         4.000000      165.000000   \n",
       "\n",
       "       cholesterol  max heart rate  exercise angina  plasma glucose  \\\n",
       "count  6962.000000     6962.000000      6962.000000     6962.000000   \n",
       "mean    184.711290      163.502442         0.061764       98.394283   \n",
       "std      32.010359       15.458693         0.240743       28.598084   \n",
       "min     150.000000      138.000000         0.000000       55.120000   \n",
       "25%     164.000000      150.000000         0.000000       78.707500   \n",
       "50%     179.000000      163.000000         0.000000       93.000000   \n",
       "75%     192.000000      177.000000         0.000000      111.632500   \n",
       "max     294.000000      202.000000         1.000000      199.000000   \n",
       "\n",
       "       skin_thickness      insulin          bmi  diabetes_pedigree  \\\n",
       "count     6962.000000  6962.000000  6962.000000        6962.000000   \n",
       "mean        56.813416   111.091640    27.190908           0.467386   \n",
       "std         22.889316    17.470033     7.362886           0.102663   \n",
       "min         21.000000    81.000000    10.300000           0.078000   \n",
       "25%         36.000000    97.000000    21.800000           0.467386   \n",
       "50%         55.000000   111.000000    26.200000           0.467386   \n",
       "75%         77.000000   125.000000    31.000000           0.467386   \n",
       "max         99.000000   171.000000    66.800000           2.420000   \n",
       "\n",
       "       hypertension  heart_disease  \n",
       "count   6962.000000    6962.000000  \n",
       "mean       0.071531       0.039500  \n",
       "std        0.257729       0.194796  \n",
       "min        0.000000       0.000000  \n",
       "25%        0.000000       0.000000  \n",
       "50%        0.000000       0.000000  \n",
       "75%        0.000000       0.000000  \n",
       "max        1.000000       1.000000  "
      ]
     },
     "execution_count": 4,
     "metadata": {},
     "output_type": "execute_result"
    }
   ],
   "source": [
    "df_data.describe()"
   ]
  },
  {
   "cell_type": "markdown",
   "metadata": {},
   "source": [
    "#### Check for null values"
   ]
  },
  {
   "cell_type": "code",
   "execution_count": 5,
   "metadata": {},
   "outputs": [
    {
     "name": "stdout",
     "output_type": "stream",
     "text": [
      "<class 'pandas.core.frame.DataFrame'>\n",
      "RangeIndex: 6962 entries, 0 to 6961\n",
      "Data columns (total 18 columns):\n",
      " #   Column             Non-Null Count  Dtype  \n",
      "---  ------             --------------  -----  \n",
      " 0   Unnamed: 0         6962 non-null   int64  \n",
      " 1   age                6962 non-null   float64\n",
      " 2   gender             6961 non-null   float64\n",
      " 3   chest pain type    6962 non-null   float64\n",
      " 4   blood pressure     6962 non-null   float64\n",
      " 5   cholesterol        6962 non-null   float64\n",
      " 6   max heart rate     6962 non-null   float64\n",
      " 7   exercise angina    6962 non-null   float64\n",
      " 8   plasma glucose     6962 non-null   float64\n",
      " 9   skin_thickness     6962 non-null   float64\n",
      " 10  insulin            6962 non-null   float64\n",
      " 11  bmi                6962 non-null   float64\n",
      " 12  diabetes_pedigree  6962 non-null   float64\n",
      " 13  hypertension       6962 non-null   float64\n",
      " 14  heart_disease      6962 non-null   float64\n",
      " 15  Residence_type     6962 non-null   object \n",
      " 16  smoking_status     6962 non-null   object \n",
      " 17  triage             6552 non-null   object \n",
      "dtypes: float64(14), int64(1), object(3)\n",
      "memory usage: 979.2+ KB\n"
     ]
    }
   ],
   "source": [
    "df_data.info()"
   ]
  },
  {
   "cell_type": "code",
   "execution_count": 6,
   "metadata": {},
   "outputs": [
    {
     "data": {
      "text/plain": [
       "Unnamed: 0             0\n",
       "age                    0\n",
       "gender                 1\n",
       "chest pain type        0\n",
       "blood pressure         0\n",
       "cholesterol            0\n",
       "max heart rate         0\n",
       "exercise angina        0\n",
       "plasma glucose         0\n",
       "skin_thickness         0\n",
       "insulin                0\n",
       "bmi                    0\n",
       "diabetes_pedigree      0\n",
       "hypertension           0\n",
       "heart_disease          0\n",
       "Residence_type         0\n",
       "smoking_status         0\n",
       "triage               410\n",
       "dtype: int64"
      ]
     },
     "execution_count": 6,
     "metadata": {},
     "output_type": "execute_result"
    }
   ],
   "source": [
    "df_data.isnull().sum()"
   ]
  },
  {
   "cell_type": "code",
   "execution_count": 7,
   "metadata": {},
   "outputs": [],
   "source": [
    "df_data = df_data.dropna() # eliminar la fila que tiene valores vacios en genero y triage"
   ]
  },
  {
   "cell_type": "markdown",
   "metadata": {},
   "source": [
    "#### Check for duplicate rows"
   ]
  },
  {
   "cell_type": "code",
   "execution_count": 8,
   "metadata": {},
   "outputs": [
    {
     "name": "stdout",
     "output_type": "stream",
     "text": [
      "Total duplicate rows: 0\n"
     ]
    }
   ],
   "source": [
    "duplicate = df_data.duplicated()\n",
    "print(f\"Total duplicate rows: {duplicate.sum()}\")"
   ]
  },
  {
   "cell_type": "markdown",
   "metadata": {},
   "source": [
    "#### View data types"
   ]
  },
  {
   "cell_type": "code",
   "execution_count": 9,
   "metadata": {},
   "outputs": [
    {
     "data": {
      "text/plain": [
       "Unnamed: 0             int64\n",
       "age                  float64\n",
       "gender               float64\n",
       "chest pain type      float64\n",
       "blood pressure       float64\n",
       "cholesterol          float64\n",
       "max heart rate       float64\n",
       "exercise angina      float64\n",
       "plasma glucose       float64\n",
       "skin_thickness       float64\n",
       "insulin              float64\n",
       "bmi                  float64\n",
       "diabetes_pedigree    float64\n",
       "hypertension         float64\n",
       "heart_disease        float64\n",
       "Residence_type        object\n",
       "smoking_status        object\n",
       "triage                object\n",
       "dtype: object"
      ]
     },
     "execution_count": 9,
     "metadata": {},
     "output_type": "execute_result"
    }
   ],
   "source": [
    "df_data.dtypes"
   ]
  },
  {
   "cell_type": "code",
   "execution_count": 10,
   "metadata": {},
   "outputs": [],
   "source": [
    "cols_to_int = ['age', 'gender', 'chest pain type', 'exercise angina', 'hypertension', 'heart_disease']\n",
    "\n",
    "# Convertir las columnas a tipo int\n",
    "df_data[cols_to_int] = df_data[cols_to_int].astype(int)"
   ]
  },
  {
   "cell_type": "code",
   "execution_count": 11,
   "metadata": {},
   "outputs": [
    {
     "data": {
      "text/plain": [
       "Unnamed: 0             int64\n",
       "age                    int64\n",
       "gender                 int64\n",
       "chest pain type        int64\n",
       "blood pressure       float64\n",
       "cholesterol          float64\n",
       "max heart rate       float64\n",
       "exercise angina        int64\n",
       "plasma glucose       float64\n",
       "skin_thickness       float64\n",
       "insulin              float64\n",
       "bmi                  float64\n",
       "diabetes_pedigree    float64\n",
       "hypertension           int64\n",
       "heart_disease          int64\n",
       "Residence_type        object\n",
       "smoking_status        object\n",
       "triage                object\n",
       "dtype: object"
      ]
     },
     "execution_count": 11,
     "metadata": {},
     "output_type": "execute_result"
    }
   ],
   "source": [
    "df_data.dtypes"
   ]
  },
  {
   "cell_type": "code",
   "execution_count": 12,
   "metadata": {},
   "outputs": [
    {
     "data": {
      "text/plain": [
       "Urban    4187\n",
       "Rural    2364\n",
       "Name: Residence_type, dtype: int64"
      ]
     },
     "execution_count": 12,
     "metadata": {},
     "output_type": "execute_result"
    }
   ],
   "source": [
    "df_data[\"Residence_type\"].value_counts()"
   ]
  },
  {
   "cell_type": "code",
   "execution_count": 13,
   "metadata": {},
   "outputs": [
    {
     "data": {
      "text/plain": [
       "never smoked       3543\n",
       "Unknown            1386\n",
       "formerly smoked     853\n",
       "smokes              769\n",
       "Name: smoking_status, dtype: int64"
      ]
     },
     "execution_count": 13,
     "metadata": {},
     "output_type": "execute_result"
    }
   ],
   "source": [
    "df_data[\"smoking_status\"].value_counts()"
   ]
  },
  {
   "cell_type": "markdown",
   "metadata": {},
   "source": [
    "#### Change column values ​​to numeric values"
   ]
  },
  {
   "cell_type": "code",
   "execution_count": 14,
   "metadata": {},
   "outputs": [],
   "source": [
    "df_encoded = pd.get_dummies(df_data, columns=['Residence_type', 'smoking_status'])\n",
    "\n",
    "# Convertir solo las columnas generadas por one-hot encoding a int\n",
    "one_hot_columns = [col for col in df_encoded.columns if col.startswith('Residence_type_') or col.startswith('smoking_status_')]\n",
    "df_encoded[one_hot_columns] = df_encoded[one_hot_columns].astype(int)"
   ]
  },
  {
   "cell_type": "markdown",
   "metadata": {},
   "source": [
    "#### Undersampling to balance the dataset"
   ]
  },
  {
   "cell_type": "code",
   "execution_count": 15,
   "metadata": {},
   "outputs": [
    {
     "data": {
      "text/plain": [
       "yellow    5636\n",
       "green      440\n",
       "orange     346\n",
       "red        129\n",
       "Name: triage, dtype: int64"
      ]
     },
     "execution_count": 15,
     "metadata": {},
     "output_type": "execute_result"
    }
   ],
   "source": [
    "df_encoded[\"triage\"].value_counts()"
   ]
  },
  {
   "cell_type": "code",
   "execution_count": null,
   "metadata": {},
   "outputs": [],
   "source": [
    "min_size = df_encoded[\"triage\"].value_counts().min()\n",
    "\n",
    "undersampled_df = (\n",
    "    df_encoded.groupby(\"triage\")\n",
    "    .apply(lambda x: x.sample(min_size, random_state=42))  # Selecciona aleatoriamente\n",
    "    .reset_index(drop=True)\n",
    ")"
   ]
  },
  {
   "cell_type": "code",
   "execution_count": 17,
   "metadata": {},
   "outputs": [
    {
     "data": {
      "text/plain": [
       "green     129\n",
       "orange    129\n",
       "red       129\n",
       "yellow    129\n",
       "Name: triage, dtype: int64"
      ]
     },
     "execution_count": 17,
     "metadata": {},
     "output_type": "execute_result"
    }
   ],
   "source": [
    "undersampled_df[\"triage\"].value_counts()"
   ]
  },
  {
   "cell_type": "code",
   "execution_count": 18,
   "metadata": {},
   "outputs": [],
   "source": [
    "#df_encoded = undersampled_df"
   ]
  },
  {
   "cell_type": "markdown",
   "metadata": {},
   "source": [
    "#### Save dataset and response column"
   ]
  },
  {
   "cell_type": "code",
   "execution_count": 19,
   "metadata": {},
   "outputs": [],
   "source": [
    "df_labels = df_encoded[[\"Unnamed: 0\", \"triage\"]]\n",
    "df_labels = df_labels.rename(columns={\"Unnamed: 0\": \"id\"})\n",
    "\n",
    "df_encoded = df_encoded.drop([\"Unnamed: 0\", \"triage\"], axis=1)"
   ]
  },
  {
   "cell_type": "code",
   "execution_count": 20,
   "metadata": {},
   "outputs": [],
   "source": [
    "os.makedirs(\"../results/preprocessing/\", exist_ok=True)\n",
    "df_labels.to_csv(\"../results/preprocessing/labels.csv\", index=False)\n",
    "df_encoded.to_csv(\"../results/preprocessing/01_dataset_preprocessing.csv\", index=False)"
   ]
  }
 ],
 "metadata": {
  "kernelspec": {
   "display_name": "patient-priority",
   "language": "python",
   "name": "python3"
  },
  "language_info": {
   "codemirror_mode": {
    "name": "ipython",
    "version": 3
   },
   "file_extension": ".py",
   "mimetype": "text/x-python",
   "name": "python",
   "nbconvert_exporter": "python",
   "pygments_lexer": "ipython3",
   "version": "3.10.0"
  }
 },
 "nbformat": 4,
 "nbformat_minor": 2
}
